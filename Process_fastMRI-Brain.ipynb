{
 "cells": [
  {
   "cell_type": "code",
   "execution_count": null,
   "outputs": [],
   "source": [
    "rt = 'WHERE YOU RESTORE YOUR FASTMRI DATA'\n",
    "aim = 'DESTINATION'\n",
    "os.chdir(rt)\n",
    "foldername = []\n",
    "for i in os.listdir():\n",
    "    if i.endswith('h5'):\n",
    "        foldername.append(i)\n",
    "foldername.sort()"
   ],
   "metadata": {
    "collapsed": false,
    "pycharm": {
     "name": "#%%\n"
    }
   }
  },
  {
   "cell_type": "code",
   "execution_count": null,
   "outputs": [],
   "source": [
    "def smap(filename):\n",
    "    aim = 'DESTINATION'\n",
    "    hf = h5py.File(filename)\n",
    "    kspace = hf['kspace'][()]\n",
    "    num_layers, num_coils, nx, ny = kspace.shape\n",
    "    kmax = np.amax(np.abs(kspace[:]))\n",
    "    for i in range(num_layers):\n",
    "        k = kspace[i,:,:,:]\n",
    "        k_r = (np.real(k)/kmax*32767).astype('int16') # save memory, be consistent with your dataloader\n",
    "        k_i = (np.imag(k)/kmax*32767).astype('int16')\n",
    "        k = np.expand_dims(k, axis=0)\n",
    "        k = np.transpose(k,(2,3,0,1))\n",
    "        try:\n",
    "            sens_maps = bart(1, f'ecalib -d0 -m1 -r24 -k6 -t0.001 -c0.95', k)\n",
    "        except:\n",
    "            print('oops')\n",
    "            continue\n",
    "        sens_map = sens_maps.squeeze().transpose((2,0,1))\n",
    "        s_r = (np.real(sens_map)*32767).astype('int16')\n",
    "        s_i = (np.imag(sens_map)*32767).astype('int16')\n",
    "        np.savez(os.path.join(aim,'%s_Layer%d.npz'%(filename,i)),s_r=s_r,s_i=s_i,k_r=k_r,k_i=k_i)\n"
   ],
   "metadata": {
    "collapsed": false,
    "pycharm": {
     "name": "#%%\n"
    }
   }
  },
  {
   "cell_type": "code",
   "execution_count": null,
   "outputs": [],
   "source": [
    "from joblib import Parallel, delayed\n",
    "Parallel(n_jobs=40)(delayed(smap)(subfolder) for subfolder in foldername)"
   ],
   "metadata": {
    "collapsed": false,
    "pycharm": {
     "name": "#%%\n"
    }
   }
  }
 ],
 "metadata": {
  "kernelspec": {
   "display_name": "Python [conda env:torch] *",
   "language": "python",
   "name": "conda-env-torch-py"
  },
  "language_info": {
   "codemirror_mode": {
    "name": "ipython",
    "version": 3
   },
   "file_extension": ".py",
   "mimetype": "text/x-python",
   "name": "python",
   "nbconvert_exporter": "python",
   "pygments_lexer": "ipython3",
   "version": "3.7.4"
  },
  "pycharm": {
   "stem_cell": {
    "cell_type": "raw",
    "source": [
     "import numpy as np\n",
     "import scipy.io as sp\n",
     "import scipy\n",
     "import torch\n",
     "import matplotlib.pyplot as plt\n",
     "import matplotlib.image as image\n",
     "import PIL.Image as Image\n",
     "import torchvision\n",
     "import scipy.ndimage\n",
     "import sys\n",
     "sys.path.append('/home/guanhuaw/bart/python')\n",
     "from bart import bart\n",
     "import h5py\n",
     "import numpy as np\n",
     "from matplotlib import pyplot as plt\n",
     "import tarfile\n",
     "import os\n",
     "import shutil\n"
    ],
    "metadata": {
     "collapsed": false
    }
   }
  }
 },
 "nbformat": 4,
 "nbformat_minor": 2
}